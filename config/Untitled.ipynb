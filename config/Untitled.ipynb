{
 "cells": [
  {
   "cell_type": "code",
   "execution_count": null,
   "id": "2be3230a-78e2-4716-8c8b-3dd656448c79",
   "metadata": {},
   "outputs": [],
   "source": [
    "dataset_params:\n",
    "  im_train_path: '/Users/narayanmurti/Workspace/Dissertation/data/citypersons_dir/train/images'\n",
    "  ann_train_path: '/Users/narayanmurti/Workspace/Dissertation/data/citypersons_dir/train/train_df.csv'\n",
    "  im_test_path: '/Users/narayanmurti/Workspace/Dissertation/data/citypersons_dir/valid/images'\n",
    "  ann_test_path: '/Users/narayanmurti/Workspace/Dissertation/data/citypersons_dir/valid/val_df.csv'\n",
    "  num_classes : 1\n",
    "\n",
    "model_params:\n",
    "  im_channels : 3\n",
    "  aspect_ratios: [0.5, 1, 2]\n",
    "  scales: [128, 256, 512]\n",
    "  min_im_size : 600\n",
    "  max_im_size : 1000\n",
    "  backbone_out_channels : 512\n",
    "  fc_inner_dim : 1024\n",
    "  rpn_bg_threshold : 0.3\n",
    "  rpn_fg_threshold : 0.7\n",
    "  rpn_nms_threshold : 0.7\n",
    "  rpn_train_prenms_topk : 12000\n",
    "  rpn_test_prenms_topk : 6000\n",
    "  rpn_train_topk : 2000\n",
    "  rpn_test_topk : 300\n",
    "  rpn_batch_size : 256\n",
    "  rpn_pos_fraction : 0.5\n",
    "  roi_iou_threshold : 0.5\n",
    "  roi_low_bg_iou : 0.0 # increase it to 0.1 for hard negative\n",
    "  roi_pool_size : 7\n",
    "  roi_nms_threshold : 0.3\n",
    "  roi_topk_detections : 100\n",
    "  roi_score_threshold : 0.05\n",
    "  roi_batch_size : 128\n",
    "  roi_pos_fraction : 0.25\n",
    "\n",
    "train_params:\n",
    "  task_name: 'frcnn_citypersons'\n",
    "  seed : 1111\n",
    "  acc_steps : 1 # increase you want to get gradients from >1 steps(kind of mimicking >1 batch size)\n",
    "  num_epochs: 20\n",
    "  lr_steps : [12, 16]\n",
    "  lr: 0.001\n",
    "  ckpt_name: 'frcnn_citypersons.pth'"
   ]
  }
 ],
 "metadata": {
  "kernelspec": {
   "display_name": "pytorvch_env",
   "language": "python",
   "name": "pytorvch_env"
  },
  "language_info": {
   "codemirror_mode": {
    "name": "ipython",
    "version": 3
   },
   "file_extension": ".py",
   "mimetype": "text/x-python",
   "name": "python",
   "nbconvert_exporter": "python",
   "pygments_lexer": "ipython3",
   "version": "3.12.7"
  }
 },
 "nbformat": 4,
 "nbformat_minor": 5
}
